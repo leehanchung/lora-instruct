{
 "cells": [
  {
   "cell_type": "code",
   "execution_count": 11,
   "metadata": {},
   "outputs": [],
   "source": [
    "import os\n",
    "import sys\n",
    "\n",
    "import fire\n",
    "import gradio as gr\n",
    "import torch\n",
    "import transformers\n",
    "from peft import PeftModel\n",
    "from transformers import AutoModelForCausalLM, AutoTokenizer, GenerationConfig, LlamaForCausalLM, LlamaTokenizer\n",
    "sys.path.append('..')\n",
    "from utils.callbacks import Iteratorize, Stream\n",
    "from utils.prompter import Prompter\n",
    "\n",
    "if torch.cuda.is_available():\n",
    "    device = \"cuda:0\"\n",
    "else:\n",
    "    device = \"cpu\"\n",
    "\n",
    "try:\n",
    "    if torch.backends.mps.is_available():\n",
    "        device = \"mps\"\n",
    "except:  # noqa: E722\n",
    "    pass"
   ]
  },
  {
   "cell_type": "code",
   "execution_count": 12,
   "metadata": {},
   "outputs": [],
   "source": [
    "base_model = 'togethercomputer/RedPajama-INCITE-Base-3B-v1'\n",
    "lora_weights = \"../lora-redpajama-alpaca-3B\"\n",
    "load_8bit = False"
   ]
  },
  {
   "cell_type": "code",
   "execution_count": 13,
   "metadata": {},
   "outputs": [
    {
     "name": "stdout",
     "output_type": "stream",
     "text": [
      "True\n",
      "PeftModelForCausalLM(\n",
      "  (base_model): LoraModel(\n",
      "    (model): GPTNeoXForCausalLM(\n",
      "      (gpt_neox): GPTNeoXModel(\n",
      "        (embed_in): Embedding(50432, 2560)\n",
      "        (layers): ModuleList(\n",
      "          (0-31): 32 x GPTNeoXLayer(\n",
      "            (input_layernorm): LayerNorm((2560,), eps=1e-05, elementwise_affine=True)\n",
      "            (post_attention_layernorm): LayerNorm((2560,), eps=1e-05, elementwise_affine=True)\n",
      "            (attention): GPTNeoXAttention(\n",
      "              (rotary_emb): RotaryEmbedding()\n",
      "              (query_key_value): Linear(\n",
      "                in_features=2560, out_features=7680, bias=True\n",
      "                (lora_dropout): ModuleDict(\n",
      "                  (default): Dropout(p=0.05, inplace=False)\n",
      "                )\n",
      "                (lora_A): ModuleDict(\n",
      "                  (default): Linear(in_features=2560, out_features=8, bias=False)\n",
      "                )\n",
      "                (lora_B): ModuleDict(\n",
      "                  (default): Linear(in_features=8, out_features=7680, bias=False)\n",
      "                )\n",
      "                (lora_embedding_A): ParameterDict()\n",
      "                (lora_embedding_B): ParameterDict()\n",
      "              )\n",
      "              (dense): Linear(in_features=2560, out_features=2560, bias=True)\n",
      "            )\n",
      "            (mlp): GPTNeoXMLP(\n",
      "              (dense_h_to_4h): Linear(in_features=2560, out_features=10240, bias=True)\n",
      "              (dense_4h_to_h): Linear(in_features=10240, out_features=2560, bias=True)\n",
      "              (act): GELUActivation()\n",
      "            )\n",
      "          )\n",
      "        )\n",
      "        (final_layer_norm): LayerNorm((2560,), eps=1e-05, elementwise_affine=True)\n",
      "      )\n",
      "      (embed_out): Linear(in_features=2560, out_features=50432, bias=False)\n",
      "    )\n",
      "  )\n",
      ")\n"
     ]
    }
   ],
   "source": [
    "print(torch.cuda.is_available())\n",
    "model = AutoModelForCausalLM.from_pretrained(\n",
    "    base_model,\n",
    "    load_in_8bit=load_8bit,\n",
    "    torch_dtype=torch.float16,\n",
    "    device_map=\"auto\",\n",
    ")\n",
    "model = PeftModel.from_pretrained(\n",
    "    model,\n",
    "    lora_weights,\n",
    "    torch_dtype=torch.float16,\n",
    ")\n",
    "print(model.eval())"
   ]
  },
  {
   "cell_type": "code",
   "execution_count": 14,
   "metadata": {},
   "outputs": [
    {
     "name": "stderr",
     "output_type": "stream",
     "text": [
      "The attention mask and the pad token id were not set. As a consequence, you may observe unexpected behavior. Please pass your input's `attention_mask` to obtain reliable results.\n",
      "Setting `pad_token_id` to `eos_token_id`:0 for open-end generation.\n"
     ]
    },
    {
     "name": "stdout",
     "output_type": "stream",
     "text": [
      "Output:\n",
      "----------------------------------------------------------------------------------------------------\n"
     ]
    },
    {
     "ename": "TypeError",
     "evalue": "argument 'ids': 'list' object cannot be interpreted as an integer",
     "output_type": "error",
     "traceback": [
      "\u001b[0;31m---------------------------------------------------------------------------\u001b[0m",
      "\u001b[0;31mTypeError\u001b[0m                                 Traceback (most recent call last)",
      "Cell \u001b[0;32mIn[14], line 14\u001b[0m\n\u001b[1;32m      6\u001b[0m greedy_output  \u001b[39m=\u001b[39m model\u001b[39m.\u001b[39mgenerate(\n\u001b[1;32m      7\u001b[0m     input_ids\u001b[39m=\u001b[39minput_ids,\n\u001b[1;32m      8\u001b[0m     \u001b[39m# generation_config=generation_config,\u001b[39;00m\n\u001b[0;32m   (...)\u001b[0m\n\u001b[1;32m     11\u001b[0m     max_new_tokens\u001b[39m=\u001b[39m\u001b[39m500\u001b[39m,\n\u001b[1;32m     12\u001b[0m )\n\u001b[1;32m     13\u001b[0m \u001b[39mprint\u001b[39m(\u001b[39m\"\u001b[39m\u001b[39mOutput:\u001b[39m\u001b[39m\\n\u001b[39;00m\u001b[39m\"\u001b[39m \u001b[39m+\u001b[39m \u001b[39m100\u001b[39m \u001b[39m*\u001b[39m \u001b[39m'\u001b[39m\u001b[39m-\u001b[39m\u001b[39m'\u001b[39m)\n\u001b[0;32m---> 14\u001b[0m \u001b[39mprint\u001b[39m(tokenizer\u001b[39m.\u001b[39;49mdecode(greedy_output[\u001b[39m0\u001b[39;49m], skip_special_tokens\u001b[39m=\u001b[39;49m\u001b[39mTrue\u001b[39;49;00m))\n",
      "File \u001b[0;32m~/lora-instruct/.venv/lib/python3.10/site-packages/transformers/tokenization_utils_base.py:3486\u001b[0m, in \u001b[0;36mPreTrainedTokenizerBase.decode\u001b[0;34m(self, token_ids, skip_special_tokens, clean_up_tokenization_spaces, **kwargs)\u001b[0m\n\u001b[1;32m   3483\u001b[0m \u001b[39m# Convert inputs to python lists\u001b[39;00m\n\u001b[1;32m   3484\u001b[0m token_ids \u001b[39m=\u001b[39m to_py_obj(token_ids)\n\u001b[0;32m-> 3486\u001b[0m \u001b[39mreturn\u001b[39;00m \u001b[39mself\u001b[39;49m\u001b[39m.\u001b[39;49m_decode(\n\u001b[1;32m   3487\u001b[0m     token_ids\u001b[39m=\u001b[39;49mtoken_ids,\n\u001b[1;32m   3488\u001b[0m     skip_special_tokens\u001b[39m=\u001b[39;49mskip_special_tokens,\n\u001b[1;32m   3489\u001b[0m     clean_up_tokenization_spaces\u001b[39m=\u001b[39;49mclean_up_tokenization_spaces,\n\u001b[1;32m   3490\u001b[0m     \u001b[39m*\u001b[39;49m\u001b[39m*\u001b[39;49mkwargs,\n\u001b[1;32m   3491\u001b[0m )\n",
      "File \u001b[0;32m~/lora-instruct/.venv/lib/python3.10/site-packages/transformers/tokenization_utils_fast.py:549\u001b[0m, in \u001b[0;36mPreTrainedTokenizerFast._decode\u001b[0;34m(self, token_ids, skip_special_tokens, clean_up_tokenization_spaces, **kwargs)\u001b[0m\n\u001b[1;32m    547\u001b[0m \u001b[39mif\u001b[39;00m \u001b[39misinstance\u001b[39m(token_ids, \u001b[39mint\u001b[39m):\n\u001b[1;32m    548\u001b[0m     token_ids \u001b[39m=\u001b[39m [token_ids]\n\u001b[0;32m--> 549\u001b[0m text \u001b[39m=\u001b[39m \u001b[39mself\u001b[39;49m\u001b[39m.\u001b[39;49m_tokenizer\u001b[39m.\u001b[39;49mdecode(token_ids, skip_special_tokens\u001b[39m=\u001b[39;49mskip_special_tokens)\n\u001b[1;32m    551\u001b[0m clean_up_tokenization_spaces \u001b[39m=\u001b[39m (\n\u001b[1;32m    552\u001b[0m     clean_up_tokenization_spaces\n\u001b[1;32m    553\u001b[0m     \u001b[39mif\u001b[39;00m clean_up_tokenization_spaces \u001b[39mis\u001b[39;00m \u001b[39mnot\u001b[39;00m \u001b[39mNone\u001b[39;00m\n\u001b[1;32m    554\u001b[0m     \u001b[39melse\u001b[39;00m \u001b[39mself\u001b[39m\u001b[39m.\u001b[39mclean_up_tokenization_spaces\n\u001b[1;32m    555\u001b[0m )\n\u001b[1;32m    556\u001b[0m \u001b[39mif\u001b[39;00m clean_up_tokenization_spaces:\n",
      "\u001b[0;31mTypeError\u001b[0m: argument 'ids': 'list' object cannot be interpreted as an integer"
     ]
    }
   ],
   "source": [
    "input = \"this is a good day to die\"\n",
    "tokenizer = AutoTokenizer.from_pretrained(base_model)\n",
    "\n",
    "input_ids = tokenizer(input, return_tensors=\"pt\").input_ids.to(device)\n",
    "\n",
    "greedy_output  = model.generate(\n",
    "    input_ids=input_ids,\n",
    "    # generation_config=generation_config,\n",
    "    return_dict_in_generate=True,\n",
    "    output_scores=True,\n",
    "    max_new_tokens=500,\n",
    ")\n",
    "print(\"Output:\\n\" + 100 * '-')\n",
    "print(tokenizer.decode(greedy_output[0], skip_special_tokens=True))"
   ]
  },
  {
   "cell_type": "code",
   "execution_count": 20,
   "metadata": {},
   "outputs": [
    {
     "name": "stdout",
     "output_type": "stream",
     "text": [
      "this is a good day to die, and I'm not going to be the one to do it.\n",
      "\n",
      "\"I'm going to be the one to kill you,\" I say.\n",
      "\n",
      "\"You're not going to kill me,\" he says. \"I'm going to kill you.\"\n",
      "\n",
      "\"I'm going to kill you,\" I say.\n",
      "\n",
      "\"I'm going to kill you,\" he says.\n",
      "\n",
      "\"I'm going to kill you,\" I say.\n",
      "\n",
      "\"I'm going to kill you,\" he says.\n",
      "\n",
      "\"I'm going to kill you,\" I say.\n",
      "\n",
      "\"I'm going to kill you,\" he says.\n",
      "\n",
      "\"I'm going to kill you,\" I say.\n",
      "\n",
      "\"I'm going to kill you,\" he says.\n",
      "\n",
      "\"I'm going to kill you,\" I say.\n",
      "\n",
      "\"I'm going to kill you,\" he says.\n",
      "\n",
      "\"I'm going to kill you,\" I say.\n",
      "\n",
      "\"I'm going to kill you,\" he says.\n",
      "\n",
      "\"I'm going to kill you,\" I say.\n",
      "\n",
      "\"I'm going to kill you,\" he says.\n",
      "\n",
      "\"I'm going to kill you,\" I say.\n",
      "\n",
      "\"I'm going to kill you,\" he says.\n",
      "\n",
      "\"I'm going to kill you,\" he says.\n",
      "\n",
      "\"I'm going to kill you,\" he says.\n",
      "\n",
      "\"I'm going to kill you,\" he says.\n",
      "\n",
      "\"I'm going to kill you,\" he says.\n",
      "\n",
      "\"I'm going to kill you,\" he says.\n",
      "\n",
      "\"I'm going to kill you,\" he says.\n",
      "\n",
      "\"I'm going to kill you,\" he says.\n",
      "\n",
      "\"I'm going to kill you,\" he says.\n",
      "\n",
      "\"I'm going to kill you,\" he says.\n",
      "\n",
      "\"I'm going to kill you,\" he says.\n",
      "\n",
      "\"I'm going to kill you,\" he says.\n",
      "\n",
      "\"I'm going to kill you,\" he says.\n",
      "\n",
      "\"I'm going to kill you,\" he says.\n",
      "\n",
      "\"I'm going to kill you,\" he says.\n",
      "\n",
      "\"I'm going to kill you,\" he says.\n",
      "\n",
      "\"I'm going to kill you,\" he says.\n",
      "\n",
      "\"I'm going to kill you,\" he says.\n",
      "\n",
      "\"I'm going to kill you,\" he says.\n",
      "\n",
      "\"I'm\n"
     ]
    }
   ],
   "source": [
    "print(tokenizer.decode(greedy_output[0][0], skip_special_tokens=True))"
   ]
  },
  {
   "cell_type": "code",
   "execution_count": 18,
   "metadata": {},
   "outputs": [
    {
     "data": {
      "text/plain": [
       "tensor([2520,  310,  247, 1175, 1388,  281, 3150,   13,  285,  309, 1353,  417,\n",
       "        1469,  281,  320,  253,  581,  281,  513,  352,   15,  187,  187,    3,\n",
       "          42, 1353, 1469,  281,  320,  253,  581,  281, 5159,  368,  937,  309,\n",
       "        1333,   15,  187,  187,    3, 1394, 1472,  417, 1469,  281, 5159,  479,\n",
       "         937,  344, 2296,   15,  346,   42, 1353, 1469,  281, 5159,  368,  449,\n",
       "         187,  187,    3,   42, 1353, 1469,  281, 5159,  368,  937,  309, 1333,\n",
       "          15,  187,  187,    3,   42, 1353, 1469,  281, 5159,  368,  937,  344,\n",
       "        2296,   15,  187,  187,    3,   42, 1353, 1469,  281, 5159,  368,  937,\n",
       "         309, 1333,   15,  187,  187,    3,   42, 1353, 1469,  281, 5159,  368,\n",
       "         937,  344, 2296,   15,  187,  187,    3,   42, 1353, 1469,  281, 5159,\n",
       "         368,  937,  309, 1333,   15,  187,  187,    3,   42, 1353, 1469,  281,\n",
       "        5159,  368,  937,  344, 2296,   15,  187,  187,    3,   42, 1353, 1469,\n",
       "         281, 5159,  368,  937,  309, 1333,   15,  187,  187,    3,   42, 1353,\n",
       "        1469,  281, 5159,  368,  937,  344, 2296,   15,  187,  187,    3,   42,\n",
       "        1353, 1469,  281, 5159,  368,  937,  309, 1333,   15,  187,  187,    3,\n",
       "          42, 1353, 1469,  281, 5159,  368,  937,  344, 2296,   15,  187,  187,\n",
       "           3,   42, 1353, 1469,  281, 5159,  368,  937,  309, 1333,   15,  187,\n",
       "         187,    3,   42, 1353, 1469,  281, 5159,  368,  937,  344, 2296,   15,\n",
       "         187,  187,    3,   42, 1353, 1469,  281, 5159,  368,  937,  309, 1333,\n",
       "          15,  187,  187,    3,   42, 1353, 1469,  281, 5159,  368,  937,  344,\n",
       "        2296,   15,  187,  187,    3,   42, 1353, 1469,  281, 5159,  368,  937,\n",
       "         309, 1333,   15,  187,  187,    3,   42, 1353, 1469,  281, 5159,  368,\n",
       "         937,  344, 2296,   15,  187,  187,    3,   42, 1353, 1469,  281, 5159,\n",
       "         368,  937,  344, 2296,   15,  187,  187,    3,   42, 1353, 1469,  281,\n",
       "        5159,  368,  937,  344, 2296,   15,  187,  187,    3,   42, 1353, 1469,\n",
       "         281, 5159,  368,  937,  344, 2296,   15,  187,  187,    3,   42, 1353,\n",
       "        1469,  281, 5159,  368,  937,  344, 2296,   15,  187,  187,    3,   42,\n",
       "        1353, 1469,  281, 5159,  368,  937,  344, 2296,   15,  187,  187,    3,\n",
       "          42, 1353, 1469,  281, 5159,  368,  937,  344, 2296,   15,  187,  187,\n",
       "           3,   42, 1353, 1469,  281, 5159,  368,  937,  344, 2296,   15,  187,\n",
       "         187,    3,   42, 1353, 1469,  281, 5159,  368,  937,  344, 2296,   15,\n",
       "         187,  187,    3,   42, 1353, 1469,  281, 5159,  368,  937,  344, 2296,\n",
       "          15,  187,  187,    3,   42, 1353, 1469,  281, 5159,  368,  937,  344,\n",
       "        2296,   15,  187,  187,    3,   42, 1353, 1469,  281, 5159,  368,  937,\n",
       "         344, 2296,   15,  187,  187,    3,   42, 1353, 1469,  281, 5159,  368,\n",
       "         937,  344, 2296,   15,  187,  187,    3,   42, 1353, 1469,  281, 5159,\n",
       "         368,  937,  344, 2296,   15,  187,  187,    3,   42, 1353, 1469,  281,\n",
       "        5159,  368,  937,  344, 2296,   15,  187,  187,    3,   42, 1353, 1469,\n",
       "         281, 5159,  368,  937,  344, 2296,   15,  187,  187,    3,   42, 1353,\n",
       "        1469,  281, 5159,  368,  937,  344, 2296,   15,  187,  187,    3,   42,\n",
       "        1353, 1469,  281, 5159,  368,  937,  344, 2296,   15,  187,  187,    3,\n",
       "          42, 1353, 1469,  281, 5159,  368,  937,  344, 2296,   15,  187,  187,\n",
       "           3,   42, 1353], device='cuda:0')"
      ]
     },
     "execution_count": 18,
     "metadata": {},
     "output_type": "execute_result"
    }
   ],
   "source": [
    "greedy_output[0][0]"
   ]
  },
  {
   "cell_type": "code",
   "execution_count": null,
   "metadata": {},
   "outputs": [],
   "source": []
  }
 ],
 "metadata": {
  "kernelspec": {
   "display_name": ".venv",
   "language": "python",
   "name": "python3"
  },
  "language_info": {
   "codemirror_mode": {
    "name": "ipython",
    "version": 3
   },
   "file_extension": ".py",
   "mimetype": "text/x-python",
   "name": "python",
   "nbconvert_exporter": "python",
   "pygments_lexer": "ipython3",
   "version": "3.10.10"
  },
  "orig_nbformat": 4
 },
 "nbformat": 4,
 "nbformat_minor": 2
}
